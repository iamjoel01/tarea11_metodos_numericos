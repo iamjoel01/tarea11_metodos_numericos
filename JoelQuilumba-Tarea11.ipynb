{
 "cells": [
  {
   "cell_type": "raw",
   "id": "9384073d-3711-4d03-88fe-76ea74c9212a",
   "metadata": {},
   "source": [
    "---\n",
    "title: \"Escuela Politécnica Nacional\"  \n",
    "subtitle: \"Metodos Numericos - Ejercicios Unidad 04-D | Gauss-Jacobi y Gauss-Seidel\"\n",
    "author: \"Quilumba Morocho Joel Patricio \"\n",
    "date: \"2024-07-28\"\n",
    "format:\n",
    "  pdf:\n",
    "    toc: True\n",
    "    number-sections: true\n",
    "    colorlinks: true\n",
    "    lang: \"es\"\n",
    "---"
   ]
  },
  {
   "cell_type": "markdown",
   "id": "f249aec9-7f2f-4ce6-aba0-d2cafd591c4b",
   "metadata": {},
   "source": [
    "[Link del Repositorio de Github de la Tarea 11 - Joel Quilumba](https://github.com/iamjoel01/tarea11_metodos_numericos)"
   ]
  },
  {
   "cell_type": "markdown",
   "id": "1871c5b9-0341-4c36-b3a8-0af44eb30f8d",
   "metadata": {},
   "source": [
    "‎   \n",
    "‎   \n",
    "‎   \n",
    "‎   \n",
    "‎   \n",
    "‎   \n",
    "‎   \n",
    "‎   "
   ]
  },
  {
   "cell_type": "markdown",
   "id": "8ec64884-0219-4769-9dbe-5ac0b7f2d03b",
   "metadata": {},
   "source": [
    "‎   \n",
    "‎   \n",
    "‎   \n",
    "‎   \n",
    "‎   \n",
    "‎   \n",
    "‎   \n",
    "‎   "
   ]
  },
  {
   "cell_type": "markdown",
   "id": "3fed3b46-699b-40d8-891d-9ceb9ef97e6a",
   "metadata": {},
   "source": [
    "# CONJUNTO DE EJERCICIOS"
   ]
  },
  {
   "cell_type": "code",
   "execution_count": 4,
   "id": "ea9c6864-e83a-4a7f-93c5-bac16e73cd46",
   "metadata": {},
   "outputs": [],
   "source": [
    "import numpy as np\n",
    "\n",
    "def gauss_jacobi(\n",
    "    A: np.array, b: np.array, x0: np.array, tol: float, max_iter: int\n",
    ") -> np.array:\n",
    "    # --- Validación de los argumentos de la función ---\n",
    "    if not isinstance(A, np.ndarray):\n",
    "        A = np.array(A, dtype=float)\n",
    "    assert A.shape[0] == A.shape[1], \"La matriz A debe ser de tamaño n-by-(n).\"\n",
    "\n",
    "    if not isinstance(b, np.ndarray):\n",
    "        b = np.array(b, dtype=float)\n",
    "    assert b.shape[0] == A.shape[0], \"El vector b debe ser de tamaño n.\"\n",
    "\n",
    "    if not isinstance(x0, np.ndarray):\n",
    "        x0 = np.array(x0, dtype=float)\n",
    "    assert x0.shape[0] == A.shape[0], \"El vector x0 debe ser de tamaño n.\"\n",
    "\n",
    "    # --- Algoritmo ---\n",
    "    n = A.shape[0]\n",
    "    x = x0.copy()\n",
    "    for k in range(1, max_iter):\n",
    "        x_new = np.zeros((n, 1))  # prealloc\n",
    "        for i in range(n):\n",
    "            suma = sum([A[i, j] * x[j] for j in range(n) if j != i])\n",
    "            x_new[i] = (b[i] - suma) / A[i, i]\n",
    "\n",
    "        if np.linalg.norm(x_new - x) < tol:\n",
    "            return x_new\n",
    "\n",
    "        x = x_new.copy()\n",
    "\n",
    "    return x"
   ]
  },
  {
   "cell_type": "markdown",
   "id": "bdf6bc16-0e50-4439-a8d3-41d27d6c0658",
   "metadata": {},
   "source": [
    "## Pregunta 1\n",
    "**Encuentre las primeras dos iteraciones del método de Jacobi para los siguientes sistemas lineales, por\n",
    "medio de $x^(0)=0$**"
   ]
  },
  {
   "cell_type": "markdown",
   "id": "d9a35ef3-c456-48c4-8c56-ad14e9590ebe",
   "metadata": {},
   "source": [
    "![](f1.png)"
   ]
  },
  {
   "cell_type": "code",
   "execution_count": 5,
   "id": "9ee5a306-ea68-4d4e-bd7c-1965439af1bf",
   "metadata": {},
   "outputs": [
    {
     "name": "stdout",
     "output_type": "stream",
     "text": [
      "[[ 0.0350863 ]\n",
      " [-0.23685698]\n",
      " [ 0.65787809]]\n"
     ]
    }
   ],
   "source": [
    "\n",
    "A = [\n",
    "    [3, -1, 1],\n",
    "    [3, 6, 2],\n",
    "    [3, 3, 7]\n",
    "]\n",
    "\n",
    "b = [1, 0, 4]\n",
    "\n",
    "x = gauss_jacobi(A, b, [0, 0, 0], 10e-5, 100)\n",
    "print(x)"
   ]
  },
  {
   "cell_type": "markdown",
   "id": "22c69859-ab71-40e2-8ef5-36a57a8e6853",
   "metadata": {},
   "source": [
    "![](f2.jpg)"
   ]
  },
  {
   "cell_type": "code",
   "execution_count": 6,
   "id": "abdaacc1-f3fb-42a0-a775-c184cda9ecec",
   "metadata": {},
   "outputs": [
    {
     "name": "stdout",
     "output_type": "stream",
     "text": [
      "[[0.9159701]\n",
      " [0.9495603]\n",
      " [0.7899054]]\n"
     ]
    }
   ],
   "source": [
    "\n",
    "A = [\n",
    "    [10, -1, 1],\n",
    "    [-1, 10, -2],\n",
    "    [0, -2, 10]\n",
    "]\n",
    "\n",
    "b = [9, 7, 6]\n",
    "\n",
    "x = gauss_jacobi(A, b, [0, 0, 0], 10e-5, 100)\n",
    "print(x)\n",
    "     "
   ]
  },
  {
   "cell_type": "markdown",
   "id": "be471e94-8236-4841-9cb1-d38c01a03c6d",
   "metadata": {},
   "source": [
    "![](f3.jpg)"
   ]
  },
  {
   "cell_type": "code",
   "execution_count": 8,
   "id": "7f411f9e-8fa0-4fdc-9aa9-4d681e51a6c4",
   "metadata": {},
   "outputs": [
    {
     "name": "stdout",
     "output_type": "stream",
     "text": [
      "[[-0.78792172]\n",
      " [ 2.77583088]\n",
      " [-0.29530611]\n",
      " [-2.25906474]]\n"
     ]
    }
   ],
   "source": [
    "\n",
    "A = [\n",
    "    [10, 5, 0, 0],\n",
    "    [5, 10, -4, 0],\n",
    "    [0, -4, -8, 1],\n",
    "    [0, 0, -1, 5]\n",
    "]\n",
    "\n",
    "b = [6, 25, -11, -11]\n",
    "\n",
    "x = gauss_jacobi(A, b, [0, 0, 0, 0], 10e-5, 100)\n",
    "print(x)"
   ]
  },
  {
   "cell_type": "markdown",
   "id": "260f5078-779c-4420-bc33-7b22220261f4",
   "metadata": {},
   "source": [
    "![](f4.jpg)"
   ]
  },
  {
   "cell_type": "code",
   "execution_count": 10,
   "id": "195461fe-9db9-4c0e-9d46-88f410a0dfdd",
   "metadata": {},
   "outputs": [
    {
     "name": "stdout",
     "output_type": "stream",
     "text": [
      "[[ 0.78661584]\n",
      " [-1.00257369]\n",
      " [ 1.86634212]\n",
      " [ 1.91259293]\n",
      " [ 1.98974776]]\n"
     ]
    }
   ],
   "source": [
    "\n",
    "A = [\n",
    "    [4, 1, 1, 0, 1],\n",
    "    [-1, -3, 1, 1, 0],\n",
    "    [2, 1, 5, -1, -1],\n",
    "    [-1, -1, -1, 4, 0],\n",
    "    [0, 2, -1, 1, 4]\n",
    "]\n",
    "\n",
    "b = [6, 6, 6, 6, 6]\n",
    "\n",
    "x = gauss_jacobi(A, b, [0, 0, 0, 0, 0], 10e-5, 100)\n",
    "print(x)"
   ]
  },
  {
   "cell_type": "markdown",
   "id": "d36c95b4-ac9a-4522-a4fd-becbc7d4f746",
   "metadata": {},
   "source": [
    "## Pregunta 2\n",
    "**Repita el ejercicio 1 usando el método de Gauss-Siedel**"
   ]
  },
  {
   "cell_type": "code",
   "execution_count": 11,
   "id": "7b868f05-de1f-4649-a0b0-be7fd39cbe90",
   "metadata": {},
   "outputs": [],
   "source": [
    "\n",
    "def gauss_seidel(\n",
    "    A: np.array, b: np.array, x0: np.array, tol: float, max_iter: int\n",
    ") -> np.array:\n",
    "    # --- Validación de los argumentos de la función ---\n",
    "    if not isinstance(A, np.ndarray):\n",
    "        A = np.array(A, dtype=float)\n",
    "    assert A.shape[0] == A.shape[1], \"La matriz A debe ser de tamaño n-by-(n).\"\n",
    "\n",
    "    if not isinstance(b, np.ndarray):\n",
    "        b = np.array(b, dtype=float)\n",
    "    assert b.shape[0] == A.shape[0], \"El vector b debe ser de tamaño n.\"\n",
    "\n",
    "    if not isinstance(x0, np.ndarray):\n",
    "        x0 = np.array(x0, dtype=float)\n",
    "    assert x0.shape[0] == A.shape[0], \"El vector x0 debe ser de tamaño n.\"\n",
    "\n",
    "    # --- Algoritmo ---\n",
    "    n = A.shape[0]\n",
    "    x = x0.copy()\n",
    "\n",
    "    for k in range(1, max_iter):\n",
    "        x_new = np.zeros((n, 1))  # prealloc\n",
    "        for i in range(n):\n",
    "            suma = sum([A[i, j] * x_new[j] for j in range(i) if j != i]) + sum(\n",
    "                [A[i, j] * x[j] for j in range(i, n) if j != i]\n",
    "            )\n",
    "            x_new[i] = (b[i] - suma) / A[i, i]\n",
    "\n",
    "        if np.linalg.norm(x_new - x) < tol:\n",
    "            return x_new\n",
    "\n",
    "        x = x_new.copy()\n",
    "\n",
    "    return x"
   ]
  },
  {
   "cell_type": "markdown",
   "id": "64cd723e-352e-4ceb-9987-300af6614b62",
   "metadata": {},
   "source": [
    "![](f1.png)"
   ]
  },
  {
   "cell_type": "code",
   "execution_count": 12,
   "id": "4d17907f-01e2-4cfd-b581-eb982c25496a",
   "metadata": {},
   "outputs": [
    {
     "name": "stdout",
     "output_type": "stream",
     "text": [
      "[[ 0.03510326]\n",
      " [-0.23683891]\n",
      " [ 0.6578867 ]]\n"
     ]
    }
   ],
   "source": [
    "\n",
    "A = [\n",
    "    [3, -1, 1],\n",
    "    [3, 6, 2],\n",
    "    [3, 3, 7]\n",
    "]\n",
    "\n",
    "b = [1, 0, 4]\n",
    "\n",
    "x = gauss_seidel(A, b, [0, 0, 0], 10e-5, 100)\n",
    "print(x)\n"
   ]
  },
  {
   "cell_type": "markdown",
   "id": "acdfa624-2409-4475-bcd9-e25adef723aa",
   "metadata": {},
   "source": [
    "![](f2.jpg)"
   ]
  },
  {
   "cell_type": "code",
   "execution_count": 13,
   "id": "df7be4f0-006a-42c1-a100-ba524da4a9c1",
   "metadata": {},
   "outputs": [
    {
     "name": "stdout",
     "output_type": "stream",
     "text": [
      "[[0.91596497]\n",
      " [0.94957898]\n",
      " [0.7899158 ]]\n"
     ]
    }
   ],
   "source": [
    "A = [\n",
    "    [10, -1, 1],\n",
    "    [-1, 10, -2],\n",
    "    [0, -2, 10]\n",
    "]\n",
    "\n",
    "b = [9, 7, 6]\n",
    "\n",
    "x = gauss_seidel(A, b, [0, 0, 0], 10e-5, 100)\n",
    "print(x)"
   ]
  },
  {
   "cell_type": "markdown",
   "id": "fb8c37f1-f6d8-4010-aa86-bbce7621eea7",
   "metadata": {},
   "source": [
    "![](f3.jpg)"
   ]
  },
  {
   "cell_type": "code",
   "execution_count": 14,
   "id": "97b0eda4-5ef0-48ed-9775-11b58c6b90e3",
   "metadata": {},
   "outputs": [
    {
     "name": "stdout",
     "output_type": "stream",
     "text": [
      "[[-0.78791707]\n",
      " [ 2.77583885]\n",
      " [-0.29530191]\n",
      " [-2.25906038]]\n"
     ]
    }
   ],
   "source": [
    "A = [\n",
    "    [10, 5, 0, 0],\n",
    "    [5, 10, -4, 0],\n",
    "    [0, -4, -8, 1],\n",
    "    [0, 0, -1, 5]\n",
    "]\n",
    "\n",
    "b = [6, 25, -11, -11]\n",
    "\n",
    "x = gauss_seidel(A, b, [0, 0, 0, 0], 10e-5, 100)\n",
    "print(x)"
   ]
  },
  {
   "cell_type": "markdown",
   "id": "f7ebf719-2444-4fee-8b46-ad96d4ae1c51",
   "metadata": {},
   "source": [
    "![](f4.jpg)"
   ]
  },
  {
   "cell_type": "code",
   "execution_count": 15,
   "id": "c56f3ede-e8c6-4020-a005-35b1dd38f6e2",
   "metadata": {},
   "outputs": [
    {
     "name": "stdout",
     "output_type": "stream",
     "text": [
      "[[ 0.78663577]\n",
      " [-1.00257108]\n",
      " [ 1.86632614]\n",
      " [ 1.91259771]\n",
      " [ 1.98971765]]\n"
     ]
    }
   ],
   "source": [
    "A = [\n",
    "    [4, 1, 1, 0, 1],\n",
    "    [-1, -3, 1, 1, 0],\n",
    "    [2, 1, 5, -1, -1],\n",
    "    [-1, -1, -1, 4, 0],\n",
    "    [0, 2, -1, 1, 4]\n",
    "]\n",
    "\n",
    "b = [6, 6, 6, 6, 6]\n",
    "\n",
    "x = gauss_seidel(A, b, [0, 0, 0, 0, 0], 10e-5, 100)\n",
    "print(x)"
   ]
  },
  {
   "cell_type": "markdown",
   "id": "8f8850d1-52a5-4cb2-a7c2-f2549a263ad7",
   "metadata": {},
   "source": [
    "## Pregunta 3\n",
    "**Utilice el método de Jacobi para resolver los sistemas lineales en el ejercicio 1, con TOL = 10-3.**"
   ]
  },
  {
   "cell_type": "markdown",
   "id": "35286edc-0b23-4eef-834e-7ff8fa8ec87b",
   "metadata": {},
   "source": [
    "* Literal A"
   ]
  },
  {
   "cell_type": "code",
   "execution_count": 16,
   "id": "5d9ba486-b593-429f-b85e-85b20ced954e",
   "metadata": {},
   "outputs": [
    {
     "name": "stdout",
     "output_type": "stream",
     "text": [
      "[[ 0.03516089]\n",
      " [-0.23570619]\n",
      " [ 0.65922185]]\n"
     ]
    }
   ],
   "source": [
    "A = [\n",
    "    [3, -1, 1],\n",
    "    [3, 6, 2],\n",
    "    [3, 3, 7]\n",
    "]\n",
    "\n",
    "b = [1, 0, 4]\n",
    "\n",
    "x = gauss_jacobi(A, b, [0, 0, 0], 10e-3, 100)\n",
    "print(x)"
   ]
  },
  {
   "cell_type": "markdown",
   "id": "6f56d8ac-979c-4e1a-bab2-bd86db542173",
   "metadata": {},
   "source": [
    "* Literal B"
   ]
  },
  {
   "cell_type": "code",
   "execution_count": 17,
   "id": "4687d889-8e1b-4846-89d7-eeb2916a2f7d",
   "metadata": {},
   "outputs": [
    {
     "name": "stdout",
     "output_type": "stream",
     "text": [
      "[[0.91603]\n",
      " [0.94913]\n",
      " [0.78962]]\n"
     ]
    }
   ],
   "source": [
    "\n",
    "A = [\n",
    "    [10, -1, 1],\n",
    "    [-1, 10, -2],\n",
    "    [0, -2, 10]\n",
    "]\n",
    "\n",
    "b = [9, 7, 6]\n",
    "\n",
    "x = gauss_jacobi(A, b, [0, 0, 0], 10e-3, 100)\n",
    "print(x)"
   ]
  },
  {
   "cell_type": "markdown",
   "id": "a9fd142c-ec9a-48ee-a5a2-fb9721f8d6ce",
   "metadata": {},
   "source": [
    "* Literal C"
   ]
  },
  {
   "cell_type": "code",
   "execution_count": 18,
   "id": "034f16d7-bcc4-4c1d-af1f-b2e5b11cb0c2",
   "metadata": {},
   "outputs": [
    {
     "name": "stdout",
     "output_type": "stream",
     "text": [
      "[[-0.788375  ]\n",
      " [ 2.77715625]\n",
      " [-0.29553125]\n",
      " [-2.26032813]]\n"
     ]
    }
   ],
   "source": [
    "\n",
    "A = [\n",
    "    [10, 5, 0, 0],\n",
    "    [5, 10, -4, 0],\n",
    "    [0, -4, -8, 1],\n",
    "    [0, 0, -1, 5]\n",
    "]\n",
    "\n",
    "b = [6, 25, -11, -11]\n",
    "\n",
    "x = gauss_jacobi(A, b, [0, 0, 0, 0], 10e-3, 100)\n",
    "print(x)"
   ]
  },
  {
   "cell_type": "markdown",
   "id": "a2ca9559-3716-4a07-8e1a-b6eac4194d5c",
   "metadata": {},
   "source": [
    "* Literal D"
   ]
  },
  {
   "cell_type": "code",
   "execution_count": 19,
   "id": "e94ff464-4e42-4a47-89c6-c1b992dab5a5",
   "metadata": {},
   "outputs": [
    {
     "name": "stdout",
     "output_type": "stream",
     "text": [
      "[[ 0.78718101]\n",
      " [-1.00174151]\n",
      " [ 1.8658388 ]\n",
      " [ 1.91274157]\n",
      " [ 1.98672138]]\n"
     ]
    }
   ],
   "source": [
    "\n",
    "A = [\n",
    "    [4, 1, 1, 0, 1],\n",
    "    [-1, -3, 1, 1, 0],\n",
    "    [2, 1, 5, -1, -1],\n",
    "    [-1, -1, -1, 4, 0],\n",
    "    [0, 2, -1, 1, 4]\n",
    "]\n",
    "\n",
    "b = [6, 6, 6, 6, 6]\n",
    "\n",
    "x = gauss_jacobi(A, b, [0, 0, 0, 0, 0], 10e-3, 100)\n",
    "print(x)"
   ]
  },
  {
   "cell_type": "markdown",
   "id": "3109cd2b-fe94-4271-908a-ccedef91383f",
   "metadata": {},
   "source": [
    "## Pregunta 4\n",
    "**Utilice el método de Gauss-Siedel para resolver los sistemas lineales en el ejercicio 1, con TOL = 10-3.**"
   ]
  },
  {
   "cell_type": "markdown",
   "id": "68743743-1733-42fb-909b-abef1536de44",
   "metadata": {},
   "source": [
    "* Literal A"
   ]
  },
  {
   "cell_type": "code",
   "execution_count": 20,
   "id": "94a0cdd9-8d8c-4283-a394-f159144e46d7",
   "metadata": {},
   "outputs": [
    {
     "name": "stdout",
     "output_type": "stream",
     "text": [
      "[[ 0.0361492 ]\n",
      " [-0.23660752]\n",
      " [ 0.65733928]]\n"
     ]
    }
   ],
   "source": [
    "\n",
    "A = [\n",
    "    [3, -1, 1],\n",
    "    [3, 6, 2],\n",
    "    [3, 3, 7]\n",
    "]\n",
    "\n",
    "b = [1, 0, 4]\n",
    "\n",
    "x = gauss_seidel(A, b, [0, 0, 0], 10e-3, 100)\n",
    "print(x)"
   ]
  },
  {
   "cell_type": "markdown",
   "id": "4c989e48-c40e-477d-b706-2c9e3aac503c",
   "metadata": {},
   "source": [
    "* Literal B"
   ]
  },
  {
   "cell_type": "code",
   "execution_count": 21,
   "id": "2f27aa44-dc03-4f7b-bb81-8422d55c8926",
   "metadata": {},
   "outputs": [
    {
     "name": "stdout",
     "output_type": "stream",
     "text": [
      "[[0.91593697]\n",
      " [0.94956218]\n",
      " [0.78991244]]\n"
     ]
    }
   ],
   "source": [
    "A = [\n",
    "    [10, -1, 1],\n",
    "    [-1, 10, -2],\n",
    "    [0, -2, 10]\n",
    "]\n",
    "\n",
    "b = [9, 7, 6]\n",
    "\n",
    "x = gauss_seidel(A, b, [0, 0, 0], 10e-3, 100)\n",
    "print(x)\n"
   ]
  },
  {
   "cell_type": "markdown",
   "id": "c21f8385-8cc8-42c3-8756-d9295305b75e",
   "metadata": {},
   "source": [
    "* Literal C"
   ]
  },
  {
   "cell_type": "code",
   "execution_count": 22,
   "id": "275500e4-755d-47f1-91af-2a81526a2489",
   "metadata": {},
   "outputs": [
    {
     "name": "stdout",
     "output_type": "stream",
     "text": [
      "[[-0.78802812]\n",
      " [ 2.77579328]\n",
      " [-0.29528544]\n",
      " [-2.25905709]]\n"
     ]
    }
   ],
   "source": [
    "\n",
    "A = [\n",
    "    [10, 5, 0, 0],\n",
    "    [5, 10, -4, 0],\n",
    "    [0, -4, -8, 1],\n",
    "    [0, 0, -1, 5]\n",
    "]\n",
    "\n",
    "b = [6, 25, -11, -11]\n",
    "\n",
    "x = gauss_seidel(A, b, [0, 0, 0, 0], 10e-3, 100)\n",
    "print(x)"
   ]
  },
  {
   "cell_type": "markdown",
   "id": "3c653440-3437-40a3-8b3b-3c295035c7af",
   "metadata": {},
   "source": [
    "* Literal D"
   ]
  },
  {
   "cell_type": "code",
   "execution_count": 23,
   "id": "9c816cd4-6a28-4d84-96da-21bdf6e05a76",
   "metadata": {},
   "outputs": [
    {
     "name": "stdout",
     "output_type": "stream",
     "text": [
      "[[ 0.78616258]\n",
      " [-1.00240703]\n",
      " [ 1.86606999]\n",
      " [ 1.91245638]\n",
      " [ 1.98960692]]\n"
     ]
    }
   ],
   "source": [
    "\n",
    "A = [\n",
    "    [4, 1, 1, 0, 1],\n",
    "    [-1, -3, 1, 1, 0],\n",
    "    [2, 1, 5, -1, -1],\n",
    "    [-1, -1, -1, 4, 0],\n",
    "    [0, 2, -1, 1, 4]\n",
    "]\n",
    "\n",
    "b = [6, 6, 6, 6, 6]\n",
    "\n",
    "x = gauss_seidel(A, b, [0, 0, 0, 0, 0], 10e-3, 100)\n",
    "print(x)\n",
    "     "
   ]
  },
  {
   "cell_type": "markdown",
   "id": "cd302025-ecec-432c-bb9d-f8fe2936d565",
   "metadata": {},
   "source": [
    "## Pregunta 5\n",
    "**El sistema lineal**"
   ]
  },
  {
   "cell_type": "markdown",
   "id": "1ecdcf4b-530c-4b78-9f5f-3cfa7a5ee8a3",
   "metadata": {},
   "source": [
    "![](f5.jpg)"
   ]
  },
  {
   "cell_type": "markdown",
   "id": "1360d367-10ed-422a-a5a2-d7defcf4f6b0",
   "metadata": {},
   "source": [
    "**tiene la solución (1, 2, -1)**"
   ]
  },
  {
   "cell_type": "markdown",
   "id": "0a6eba9b-9d74-4319-b927-ad04fb440f31",
   "metadata": {},
   "source": [
    "a. Muestre que el método de Jacobi con $x^{(0)} = 0$ falla al proporcionar una buena aproximación\r\n",
    "después de 25 iteraciones."
   ]
  },
  {
   "cell_type": "code",
   "execution_count": 24,
   "id": "1edd1ca6-37c9-44ac-8d6e-e70437ca77d2",
   "metadata": {},
   "outputs": [
    {
     "name": "stdout",
     "output_type": "stream",
     "text": [
      "[[ -7.73114914]\n",
      " [-32.92459655]\n",
      " [  7.73114914]]\n"
     ]
    }
   ],
   "source": [
    "A = [\n",
    "    [2, -1, 1],\n",
    "    [2, 2, 2],\n",
    "    [-1, -1, 2]\n",
    "]\n",
    "\n",
    "b = [-1, 4, -5]\n",
    "\n",
    "x = gauss_jacobi(A, b, [0, 0, 0], 10e-5, 25)\n",
    "print(x)"
   ]
  },
  {
   "cell_type": "markdown",
   "id": "cd043018-cb1b-4cd7-80d9-591e7f5c7717",
   "metadata": {},
   "source": [
    "b. Utilice el método de Gauss-Siedel con $x^{(0)} = 0$ para aproximar la solución para el sistema lineal\n",
    "dentro de $10^−5$"
   ]
  },
  {
   "cell_type": "code",
   "execution_count": 25,
   "id": "ff2af4c4-e046-4710-b050-aacb4bedfbd7",
   "metadata": {},
   "outputs": [
    {
     "name": "stdout",
     "output_type": "stream",
     "text": [
      "[[ 0.99998474]\n",
      " [ 2.00001717]\n",
      " [-0.99999905]]\n"
     ]
    }
   ],
   "source": [
    "A = [\n",
    "    [2, -1, 1],\n",
    "    [2, 2, 2],\n",
    "    [-1, -1, 2]\n",
    "]\n",
    "\n",
    "b = [-1, 4, -5]\n",
    "\n",
    "x = gauss_seidel(A, b, [0, 0, 0], 10e-5, 25)\n",
    "print(x)"
   ]
  },
  {
   "cell_type": "markdown",
   "id": "77d9754e-3f7f-4369-8f03-996f3f45e331",
   "metadata": {},
   "source": [
    "## Pregunta 6\n",
    "**El sistema lineal**"
   ]
  },
  {
   "cell_type": "markdown",
   "id": "ae31b484-4f2a-4024-b767-39a0224da026",
   "metadata": {},
   "source": [
    "![](f7.jpg)"
   ]
  },
  {
   "cell_type": "markdown",
   "id": "57768749-ac66-4b26-9f7c-b90b0cc41db1",
   "metadata": {},
   "source": [
    "**tiene la solución (0.9, -0.8, 0.7)**"
   ]
  },
  {
   "cell_type": "markdown",
   "id": "ab811041-481a-4480-8a98-04f267232dcc",
   "metadata": {},
   "source": [
    "a. ¿La matriz de coeficientes tiene diagonal estrictamente dominante?"
   ]
  },
  {
   "cell_type": "markdown",
   "id": "073eea24-3a16-4073-91aa-01039edd034c",
   "metadata": {},
   "source": [
    "![](f8.jpg)"
   ]
  },
  {
   "cell_type": "markdown",
   "id": "f6346073-9792-49d0-9571-f62b73c1fb3c",
   "metadata": {},
   "source": [
    "Si, ya que los elementos de la diagonal en cada fila son mayores a la sumatoria de los demás\n",
    "valores, en otras palabras, cumple la siguiente propiedad."
   ]
  },
  {
   "cell_type": "markdown",
   "id": "d18fead4-af8f-463d-a984-8fbfc2428c7e",
   "metadata": {},
   "source": [
    "![](ff.jpg)"
   ]
  },
  {
   "cell_type": "markdown",
   "id": "a21b37cd-8434-406e-a7fc-7945e7fb3f9a",
   "metadata": {},
   "source": [
    "b. Utilice el método iterativo de Gauss-Siedel para aproximar la solución para el sistema lineal con\n",
    "una tolerancia de $10_{22}$ y un máximo de $300$ iteraciones."
   ]
  },
  {
   "cell_type": "code",
   "execution_count": 29,
   "id": "88b33703-4254-4b68-91d5-7463c5c8817f",
   "metadata": {},
   "outputs": [
    {
     "name": "stdout",
     "output_type": "stream",
     "text": [
      "[[ 0.9]\n",
      " [-0.8]\n",
      " [ 0.7]]\n",
      "\n",
      "[[ 0.89979164]\n",
      " [-0.80015806]\n",
      " [ 0.70025541]]\n"
     ]
    }
   ],
   "source": [
    "\n",
    "A = [\n",
    "    [1, 0, -1],\n",
    "    [-0.5, 1, -0.25],\n",
    "    [1, -0.5, 1]\n",
    "]\n",
    "\n",
    "b = [0.2, -1.425, 2]\n",
    "\n",
    "x = gauss_seidel(A, b, [0, 0, 0], 10e-22, 300)\n",
    "print(x)\n",
    "print()\n",
    "y = gauss_jacobi(A, b, [0, 0, 0], 10e-22, 300)\n",
    "print(y)"
   ]
  },
  {
   "cell_type": "markdown",
   "id": "10409421-6ed3-4507-a20c-e7202544e76a",
   "metadata": {},
   "source": [
    "c.  ¿Qué pasa en la parte b) cuando el sistema cambia por el siguiente?"
   ]
  },
  {
   "cell_type": "markdown",
   "id": "0edd757c-8db8-48bf-9ede-e3d0574f26e1",
   "metadata": {},
   "source": [
    "![](f9.jpg)"
   ]
  },
  {
   "cell_type": "code",
   "execution_count": 31,
   "id": "2d9fe549-2a10-4650-b72b-6961504539e1",
   "metadata": {},
   "outputs": [
    {
     "name": "stdout",
     "output_type": "stream",
     "text": [
      "[[-1.56863478e+41]\n",
      " [-9.80396739e+40]\n",
      " [ 1.07843641e+41]]\n",
      "\n",
      "[[-1.79225360e+43]\n",
      " [-4.51500391e+42]\n",
      " [ 6.72394565e+42]]\n"
     ]
    }
   ],
   "source": [
    "\n",
    "A = [\n",
    "    [1, 0, -2],\n",
    "    [-0.5, 1, -0.25],\n",
    "    [1, -0.5, 1]\n",
    "]\n",
    "\n",
    "b = [0.2, -1.425, 2]\n",
    "\n",
    "x = gauss_seidel(A, b, [0, 0, 0], 10e-22, 300)\n",
    "print(x)\n",
    "print()\n",
    "y = gauss_jacobi(A, b, [0, 0, 0], 10e-22, 300)\n",
    "print(y)\n",
    "     "
   ]
  },
  {
   "cell_type": "markdown",
   "id": "d8b973be-5b9d-4edf-a0ee-d12e7c4f972c",
   "metadata": {},
   "source": [
    "## Pregunta 8\n",
    "**Un cable coaxial está formado por un conductor interno de 0.1 pulgadas cuadradas y un conductor externo\n",
    "de 0.5 pulgadas cuadradas. El potencial en un punto en la sección transversal del cable se describe\n",
    "mediante la ecuación de Laplace.\n",
    "Suponga que el conductor interno se mantiene en 0 volts y el conductor externo se mantiene en 110 volts. Aproximar\n",
    "el potencial entre los dos conductores requiere resolver el siguiente sistema lineal.**"
   ]
  },
  {
   "cell_type": "markdown",
   "id": "087528a3-b0e7-402a-973b-e97e0e3b99c1",
   "metadata": {},
   "source": [
    "![](fff.jpg)"
   ]
  },
  {
   "cell_type": "markdown",
   "id": "0aea4e22-31e4-4270-b4ed-c39598b28b6d",
   "metadata": {},
   "source": [
    "a. ¿La matriz es estrictamente diagonalmente dominante?"
   ]
  },
  {
   "cell_type": "markdown",
   "id": "c8ecdb38-dc19-4cd4-a79f-73668b35f327",
   "metadata": {},
   "source": [
    "Si ya que cumple"
   ]
  },
  {
   "cell_type": "markdown",
   "id": "3b2dd8f5-26b4-48d5-8ac8-5c5e515fcf20",
   "metadata": {},
   "source": [
    "![](ff.jpg)"
   ]
  },
  {
   "cell_type": "markdown",
   "id": "4227ed10-ae1c-4462-9210-f8674af664b3",
   "metadata": {},
   "source": [
    "b. Resuelva el sistema lineal usando el método de Jacobi con $x^{(0)} = 0$ y TOL = $10_{-2}$."
   ]
  },
  {
   "cell_type": "code",
   "execution_count": 32,
   "id": "327e7e13-7632-4f52-b33e-58894741f48c",
   "metadata": {},
   "outputs": [
    {
     "name": "stdout",
     "output_type": "stream",
     "text": [
      "[[81.59873047]\n",
      " [46.05927734]\n",
      " [59.57724609]\n",
      " [84.89550781]\n",
      " [62.87402344]\n",
      " [63.58300781]\n",
      " [63.58300781]\n",
      " [63.70117188]\n",
      " [85.72265625]\n",
      " [63.70117188]\n",
      " [63.70117188]\n",
      " [85.72265625]]\n"
     ]
    }
   ],
   "source": [
    "A = [\n",
    "   [4, -1, 0, 0, -1, 0, 0, 0, 0, 0, 0, 0],\n",
    "   [-1, 4, .1, 0, 0, 0, 0, 0, 0, 0, 0, 0],\n",
    "   [0, -1, 4, -1, 0, 0, 0, 0, 0, 0, 0, 0],\n",
    "   [0, 0, -1, 4, 0, -1, 0, 0, 0, 0, 0, 0],\n",
    "   [-1, 0, 0, 0, 4, 0, -1, 0, 0, 0, 0, 0],\n",
    "   [0, 0, 0, -1, 0, 4, 0, -1, 0, 0, 0, 0],\n",
    "   [0, 0, 0, 0, -1, 0, 4, 0, -1, 0, 0, 0],\n",
    "   [0, 0, 0, 0, 0, -1, 0, 4, 0, 0, 0, -1],\n",
    "   [0, 0, 0, 0, 0, 0, -1, 0, 4, -1, 0, 0],\n",
    "   [0, 0, 0, 0, 0, 0, 0, 0, -1, 4, -1, 0],\n",
    "   [0, 0, 0, 0, 0, 0, 0, 0, 0, -1, 4, -1],\n",
    "   [0, 0, 0, 0, 0, -1, 0, 0, 0, 0, -1, 4]\n",
    "]\n",
    "\n",
    "b = [220, 110, 110, 220, 110, 110, 110, 110, 220, 110, 110, 220]\n",
    "\n",
    "x = gauss_jacobi(A, b, [0, 0, 0, 0, 0, 0, 0, 0, 0, 0, 0, 0], 10, 250)\n",
    "print(x)"
   ]
  },
  {
   "cell_type": "markdown",
   "id": "5b94eeba-689b-47c9-9a2e-ae300e672e6a",
   "metadata": {},
   "source": [
    "c. Repita la parte b) mediante el método de Gauss-Siedel."
   ]
  },
  {
   "cell_type": "code",
   "execution_count": 33,
   "id": "39b4a9e5-d892-41cd-9432-76afab6f688e",
   "metadata": {},
   "outputs": [
    {
     "name": "stdout",
     "output_type": "stream",
     "text": [
      "[[82.04627686]\n",
      " [46.53746918]\n",
      " [60.13291847]\n",
      " [85.94719503]\n",
      " [63.77875061]\n",
      " [65.11658196]\n",
      " [64.70993881]\n",
      " [65.5444085 ]\n",
      " [87.1606638 ]\n",
      " [65.43725257]\n",
      " [65.62457615]\n",
      " [87.68528953]]\n"
     ]
    }
   ],
   "source": [
    "\n",
    "A = [\n",
    "   [4, -1, 0, 0, -1, 0, 0, 0, 0, 0, 0, 0],\n",
    "   [-1, 4, .1, 0, 0, 0, 0, 0, 0, 0, 0, 0],\n",
    "   [0, -1, 4, -1, 0, 0, 0, 0, 0, 0, 0, 0],\n",
    "   [0, 0, -1, 4, 0, -1, 0, 0, 0, 0, 0, 0],\n",
    "   [-1, 0, 0, 0, 4, 0, -1, 0, 0, 0, 0, 0],\n",
    "   [0, 0, 0, -1, 0, 4, 0, -1, 0, 0, 0, 0],\n",
    "   [0, 0, 0, 0, -1, 0, 4, 0, -1, 0, 0, 0],\n",
    "   [0, 0, 0, 0, 0, -1, 0, 4, 0, 0, 0, -1],\n",
    "   [0, 0, 0, 0, 0, 0, -1, 0, 4, -1, 0, 0],\n",
    "   [0, 0, 0, 0, 0, 0, 0, 0, -1, 4, -1, 0],\n",
    "   [0, 0, 0, 0, 0, 0, 0, 0, 0, -1, 4, -1],\n",
    "   [0, 0, 0, 0, 0, -1, 0, 0, 0, 0, -1, 4]\n",
    "]\n",
    "\n",
    "b = [220, 110, 110, 220, 110, 110, 110, 110, 220, 110, 110, 220]\n",
    "\n",
    "x = gauss_seidel(A, b, [0, 0, 0, 0, 0, 0, 0, 0, 0, 0, 0, 0], 10, 250)\n",
    "print(x)"
   ]
  },
  {
   "cell_type": "markdown",
   "id": "7158bd78-6b39-409f-9ec7-1d94595c0940",
   "metadata": {},
   "source": [
    "[Link del Repositorio de Github de la Tarea 11 - Joel Quilumba](https://github.com/iamjoel01/tarea11_metodos_numericos)"
   ]
  }
 ],
 "metadata": {
  "kernelspec": {
   "display_name": "Python 3 (ipykernel)",
   "language": "python",
   "name": "python3"
  },
  "language_info": {
   "codemirror_mode": {
    "name": "ipython",
    "version": 3
   },
   "file_extension": ".py",
   "mimetype": "text/x-python",
   "name": "python",
   "nbconvert_exporter": "python",
   "pygments_lexer": "ipython3",
   "version": "3.11.7"
  }
 },
 "nbformat": 4,
 "nbformat_minor": 5
}
